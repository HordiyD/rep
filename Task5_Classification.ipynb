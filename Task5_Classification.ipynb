{
 "cells": [
  {
   "cell_type": "markdown",
   "metadata": {
    "id": "yS3c5TMcysZk"
   },
   "source": [
    "## Лабораторна робота 5. **CLASSIFICATION** 🔵/🔺"
   ]
  },
  {
   "cell_type": "markdown",
   "metadata": {
    "id": "o_YxWfDYysZp"
   },
   "source": [
    "Оцінювання даної роботи буде ураховувати якість Ваших висновків та візуалізацій. При наявності ЛИШЕ коду та візуалізацій без роз'яснень, робота оцінюватися НЕ БУДЕ.  \n",
    "\n",
    "Більшість поставлених в цій лабораторній роботі задач в майбутньому буде ставитись Вами самойстійно!\n",
    "\n",
    "Під час виконання Вам дозволено користуватися будь-якими зручними для вас бібліотеками для візуалізації. \n",
    "\n",
    "Оформлення коментарів повинно проводитися в текстових комірках ноутбука з використанням синтаксису [LaTeX](https://en.wikibooks.org/wiki/LaTeX/Basics) для оформлення тексту та формул. \n",
    "\n",
    "Роботи ідентифіковані як ІДЕНТИЧНІ одразу отримують 0 балів."
   ]
  },
  {
   "cell_type": "markdown",
   "metadata": {
    "id": "ji8bJZmkysZq"
   },
   "source": [
    "# Опис вибірки \"bank-additional-full\""
   ]
  },
  {
   "cell_type": "markdown",
   "metadata": {
    "id": "fN7lEmYNysZq"
   },
   "source": [
    "   # Input variables:\n",
    "   `bank client data:`  \n",
    "   1 - **age** (numeric)  \n",
    "   2 - **job** : type of job (categorical: \"admin.\",\"blue-collar\",\"entrepreneur\",\"housemaid\",\"management\",\"retired\",\"self-employed\",\"services\",\"student\",\"technician\",\"unemployed\",\"unknown\")  \n",
    "   3 - **marital** : marital status (categorical: \"divorced\",\"married\",\"single\",\"unknown\"; note: \"divorced\" means divorced or widowed)  \n",
    "   4 - **education** (categorical: \"basic.4y\",\"basic.6y\",\"basic.9y\",\"high.school\",\"illiterate\",\"professional.course\",\"university.degree\",\"unknown\")  \n",
    "   5 - **default**: has credit in default? (categorical: \"no\",\"yes\",\"unknown\")  \n",
    "   6 - **housing**: has housing loan? (categorical: \"no\",\"yes\",\"unknown\")  \n",
    "   7 - **loan**: has personal loan? (categorical: \"no\",\"yes\",\"unknown\")  \n",
    "   # related with the last contact of the current campaign:  \n",
    "   8 - **contact**: contact communication type (categorical: \"cellular\",\"telephone\")   \n",
    "   9 - **month**: last contact month of year (categorical: \"jan\", \"feb\", \"mar\", ..., \"nov\", \"dec\")  \n",
    "  10 - **day_of_week**: last contact day of the week (categorical: \"mon\",\"tue\",\"wed\",\"thu\",\"fri\")  \n",
    "  11 - **duration**: last contact duration, in seconds (numeric). Important note:  this attribute highly affects the output target (e.g., if duration=0 then y=\"no\"). Yet, the duration is not known before a call is performed. Also, after the end of the call y is obviously known. Thus, this input should only be included for benchmark purposes and should be discarded if the intention is to have a realistic predictive model.  \n",
    "   # other attributes:  \n",
    "  12 - **campaign**: number of contacts performed during this campaign and for this client (numeric, includes last contact)  \n",
    "  13 - **pdays**: number of days that passed by after the client was last contacted from a previous campaign (numeric; 999 means client was not previously contacted)  \n",
    "  14 - **previous**: number of contacts performed before this campaign and for this client (numeric) \n",
    "  15 - **poutcome**: outcome of the previous marketing campaign (categorical: \"failure\",\"nonexistent\",\"success\")  \n",
    "   # social and economic context attributes  \n",
    "  16 - **emp.var.rate**: employment variation rate - quarterly indicator (numeric)  \n",
    "  17 - **cons.price.idx**: consumer price index - monthly indicator (numeric)       \n",
    "  18 - **cons.conf.idx**: consumer confidence index - monthly indicator (numeric)       \n",
    "  19 - **euribor3m**: euribor 3 month rate - daily indicator (numeric)  \n",
    "  20 - **nr.employed**: number of employees - quarterly indicator (numeric)  \n",
    "    \n",
    "   `Output variable (desired target):`  \n",
    "  21 - **y** - has the client subscribed a term deposit? (binary: \"yes\",\"no\")"
   ]
  },
  {
   "cell_type": "markdown",
   "metadata": {
    "id": "BewrKRUIysZr"
   },
   "source": [
    "## Імпорт необхідних бібліотек та завантаження даних"
   ]
  },
  {
   "cell_type": "markdown",
   "metadata": {
    "id": "sxyNYSbRysZr"
   },
   "source": [
    "**Завдання 1** підготовка даних до опрацювання\n",
    "\n",
    "1. завантажте вибірку `bank-additional-full.csv`;   \n",
    "2. підключіть необхідні бібліотеки;  \n",
    "3. вивести основну статистичну інформацію по числовим змінним;  \n",
    "4. вивести розмірність датасету."
   ]
  },
  {
   "cell_type": "code",
   "execution_count": null,
   "metadata": {
    "id": "8f4DR0U4ysZr"
   },
   "outputs": [],
   "source": [
    "import numpy as np\n",
    "import pandas as pd\n",
    "import matplotlib.pyplot as plt\n",
    "import seaborn as snsX\n",
    "from sklearn.preprocessing import LabelEncoder\n",
    "from sklearn.model_selection import train_test_split\n",
    "from sklearn.model_selection import KFold\n",
    "from sklearn.linear_model import LogisticRegression\n",
    "from sklearn.model_selection import cross_val_score\n",
    "from sklearn.metrics import confusion_matrix, accuracy_score\n",
    "from sklearn.model_selection import train_test_split\n",
    "from sklearn.preprocessing import StandardScaler\n",
    "from sklearn import model_selection\n",
    "from sklearn.neighbors import KNeighborsClassifier\n",
    "\n",
    "%matplotlib inline\n",
    "import warnings\n",
    "warnings.filterwarnings('ignore')"
   ]
  },
  {
   "cell_type": "code",
   "execution_count": null,
   "metadata": {
    "id": "uzAsItFFysZs"
   },
   "outputs": [
    {
     "name": "stdout",
     "output_type": "stream",
     "text": [
      "Statistical summary of numeric variables:\n",
      "               age      duration      campaign         pdays      previous  \\\n",
      "count  41188.00000  41188.000000  41188.000000  41188.000000  41188.000000   \n",
      "mean      40.02406    258.285010      2.567593    962.475454      0.172963   \n",
      "std       10.42125    259.279249      2.770014    186.910907      0.494901   \n",
      "min       17.00000      0.000000      1.000000      0.000000      0.000000   \n",
      "25%       32.00000    102.000000      1.000000    999.000000      0.000000   \n",
      "50%       38.00000    180.000000      2.000000    999.000000      0.000000   \n",
      "75%       47.00000    319.000000      3.000000    999.000000      0.000000   \n",
      "max       98.00000   4918.000000     56.000000    999.000000      7.000000   \n",
      "\n",
      "       emp.var.rate  cons.price.idx  cons.conf.idx     euribor3m   nr.employed  \n",
      "count  41188.000000    41188.000000   41188.000000  41188.000000  41188.000000  \n",
      "mean       0.081886       93.575664     -40.502600      3.621291   5167.035911  \n",
      "std        1.570960        0.578840       4.628198      1.734447     72.251528  \n",
      "min       -3.400000       92.201000     -50.800000      0.634000   4963.600000  \n",
      "25%       -1.800000       93.075000     -42.700000      1.344000   5099.100000  \n",
      "50%        1.100000       93.749000     -41.800000      4.857000   5191.000000  \n",
      "75%        1.400000       93.994000     -36.400000      4.961000   5228.100000  \n",
      "max        1.400000       94.767000     -26.900000      5.045000   5228.100000  \n",
      "Dataset shape (rows, columns):\n",
      "(41188, 21)\n"
     ]
    }
   ],
   "source": [
    "import pandas as pd\n",
    "\n",
    "df = pd.read_csv(\"bank-additional-full.csv\", sep=\";\")\n",
    "\n",
    "print(\"Statistical summary of numeric variables:\")\n",
    "print(df.describe())\n",
    "\n",
    "print(\"Dataset shape:\")\n",
    "print(df.shape)\n"
   ]
  },
  {
   "cell_type": "markdown",
   "metadata": {
    "id": "DsIS2KLCysZs"
   },
   "source": [
    "**Завдання 2** підготовка цільової змінної  \n",
    "\n",
    "1. проаналізувати атрибути вибірки, визначити цільовий атрибут `target atribute`;\n",
    "2. якщо `target atribute` є категоріальним, його необхідно перетворити в чисельний."
   ]
  },
  {
   "cell_type": "code",
   "execution_count": 96,
   "metadata": {
    "id": "LKsTWBCdysZt"
   },
   "outputs": [
    {
     "name": "stdout",
     "output_type": "stream",
     "text": [
      "Index(['age', 'job', 'marital', 'education', 'default', 'housing', 'loan',\n",
      "       'contact', 'month', 'day_of_week', 'duration', 'campaign', 'pdays',\n",
      "       'previous', 'poutcome', 'emp.var.rate', 'cons.price.idx',\n",
      "       'cons.conf.idx', 'euribor3m', 'nr.employed', 'y'],\n",
      "      dtype='object')\n",
      "Unique values in the 'y' column after transformation [0 1]\n",
      "y\n",
      "0    36548\n",
      "1     4640\n",
      "Name: count, dtype: int64\n"
     ]
    }
   ],
   "source": [
    "import pandas as pd\n",
    "\n",
    "df = pd.read_csv(\"bank-additional-full.csv\", sep=\";\")\n",
    "\n",
    "print(df.columns)\n",
    "df['y'] = df['y'].map({'yes': 1, 'no': 0})\n",
    "print(\"Unique values in the 'y' column after transformation\", df['y'].unique())\n",
    "print(df[\"y\"].value_counts())\n"
   ]
  },
  {
   "cell_type": "markdown",
   "metadata": {
    "id": "VHy_NT1aysZt"
   },
   "source": [
    "## Аналіз змінних, які характеризують клієнтів банку:"
   ]
  },
  {
   "cell_type": "markdown",
   "metadata": {
    "id": "GDSktQp_ysZt"
   },
   "source": [
    "**Завдання 3** Визначитись зі всіма атрибутами, що характреризують кліентів банку:\n",
    "- виділити їх в окрему частину;\n",
    "- первірити всі змінні (які унікальні значення містять атрибути)(дивись опис датасету)."
   ]
  },
  {
   "cell_type": "code",
   "execution_count": 16,
   "metadata": {
    "id": "lku0lnRIysZt"
   },
   "outputs": [
    {
     "name": "stdout",
     "output_type": "stream",
     "text": [
      "age: [56 57 37 40 45 59 41 24 25 29]\n",
      "job: ['housemaid' 'services' 'admin.' 'blue-collar' 'technician' 'retired'\n",
      " 'management' 'unemployed' 'self-employed' 'unknown']\n",
      "marital: ['married' 'single' 'divorced' 'unknown']\n",
      "education: ['basic.4y' 'high.school' 'basic.6y' 'basic.9y' 'professional.course'\n",
      " 'unknown' 'university.degree' 'illiterate']\n",
      "default: ['no' 'unknown' 'yes']\n",
      "housing: ['no' 'yes' 'unknown']\n",
      "loan: ['no' 'yes' 'unknown']\n",
      "contact: ['telephone' 'cellular']\n",
      "month: ['may' 'jun' 'jul' 'aug' 'oct' 'nov' 'dec' 'mar' 'apr' 'sep']\n",
      "day_of_week: ['mon' 'tue' 'wed' 'thu' 'fri']\n",
      "duration: [261 149 226 151 307 198 139 217 380  50]\n",
      "campaign: [ 1  2  3  4  5  6  7  8  9 10]\n",
      "pdays: [999   6   4   3   5   1   0  10   7   8]\n",
      "previous: [0 1 2 3 4 5 6 7]\n",
      "poutcome: ['nonexistent' 'failure' 'success']\n",
      "emp.var.rate: [ 1.1  1.4 -0.1 -0.2 -1.8 -2.9 -3.4 -3.  -1.7 -1.1]\n",
      "cons.price.idx: [93.994 94.465 93.918 93.444 93.798 93.2   92.756 92.843 93.075 92.893]\n",
      "cons.conf.idx: [-36.4 -41.8 -42.7 -36.1 -40.4 -42.  -45.9 -50.  -47.1 -46.2]\n",
      "euribor3m: [4.857 4.856 4.855 4.859 4.86  4.858 4.864 4.865 4.866 4.967]\n",
      "nr.employed: [5191.  5228.1 5195.8 5176.3 5099.1 5076.2 5017.5 5023.5 5008.7 4991.6]\n"
     ]
    }
   ],
   "source": [
    "import pandas as pd\n",
    "\n",
    "df = pd.read_csv(\"bank-additional-full.csv\", sep=\";\")\n",
    "client_attributes = df.drop(columns=[\"y\"])  \n",
    "for col in client_attributes.columns:\n",
    "    print(f\"{col}: {df[col].unique()[:10]}\")  \n"
   ]
  },
  {
   "cell_type": "markdown",
   "metadata": {
    "id": "zfKF4TiAysZt"
   },
   "source": [
    "**Завдання 4** Аналіз атрибуту `Age`:  \n",
    "1. Вивести максимальне та мінімальне значення;  \n",
    "2. Перевірити на наявність `NaN`;  \n",
    "3. Провести візуальний аналіз зміної `Age`:\n",
    "    - побудувати `countplot`, `boxplot`, `distplot`;\n",
    "    - перевірити розподіл по змінній `Age` на важкі хвости."
   ]
  },
  {
   "cell_type": "code",
   "execution_count": 5,
   "metadata": {
    "id": "ksMwh5pLysZu"
   },
   "outputs": [
    {
     "name": "stdout",
     "output_type": "stream",
     "text": [
      "Minimum age value: 17\n",
      "Maximum age value: 98\n",
      "Number of NaN values in 'age' column: 0\n"
     ]
    },
    {
     "data": {
      "image/png": "[encoded data removed]",
      "text/plain": [
       "<Figure size 1000x400 with 1 Axes>"
      ]
     },
     "metadata": {},
     "output_type": "display_data"
    },
    {
     "data": {
      "image/png": "[encoded data removed]",
      "text/plain": [
       "<Figure size 600x400 with 1 Axes>"
      ]
     },
     "metadata": {},
     "output_type": "display_data"
    },
    {
     "data": {
      "image/png": "[encoded data removed]",
      "text/plain": [
       "<Figure size 600x400 with 1 Axes>"
      ]
     },
     "metadata": {},
     "output_type": "display_data"
    }
   ],
   "source": [
    "import pandas as pd\n",
    "import matplotlib.pyplot as plt\n",
    "import seaborn as sns\n",
    "\n",
    "df = pd.read_csv(\"bank-additional-full.csv\", sep=\";\")\n",
    "\n",
    "min_age = df['age'].min()\n",
    "max_age = df['age'].max()\n",
    "print(f\"Minimum age value: {min_age}\")\n",
    "print(f\"Maximum age value: {max_age}\")\n",
    "\n",
    "nan_count = df['age'].isna().sum()\n",
    "print(f\"Number of NaN values in 'age' column: {nan_count}\")\n",
    "\n",
    "plt.figure(figsize=(10, 4))\n",
    "sns.countplot(x='age', data=df, color='skyblue')\n",
    "plt.title('Countplot of Age')\n",
    "plt.xlabel('Age')\n",
    "plt.ylabel('Number of Clients')\n",
    "plt.show()\n",
    "\n",
    "plt.figure(figsize=(6, 4))\n",
    "sns.boxplot(x='age', data=df)\n",
    "plt.title('Boxplot of Age')\n",
    "plt.xlabel('Age')\n",
    "plt.show()\n",
    "\n",
    "plt.figure(figsize=(6, 4))\n",
    "sns.histplot(df['age'], color='green')\n",
    "plt.title('Age Distribution')\n",
    "plt.xlabel('Age')\n",
    "plt.ylabel('Count')\n",
    "plt.show()\n"
   ]
  },
  {
   "cell_type": "markdown",
   "metadata": {
    "id": "P_2Fdjg8ysZu"
   },
   "source": [
    "**Висновки з 1-4 завдання (детальні)**"
   ]
  },
  {
   "cell_type": "markdown",
   "metadata": {
    "id": "6MRw2gFlysZu"
   },
   "source": [
    "Count Plot of Age: демонструє, що найбільша кількість клієнтів зосереджена у віковому діапазоні від приблизно 30 до 40 років, із поступовим спадом у міру збільшення віку.\n",
    "\n",
    "Box Plot of Age: вказує на середнє значення близько 39–40 років, помірну кількість викидів у старшому віці та відсутність суттєвих аномалій у молодшій групі.\n",
    "\n",
    "Distribution Plot of Age: підтверджує правосторонню асиметрію розподілу з максимумом у зоні 30–40 років і поступовим зниженням кількості клієнтів у старшому віці."
   ]
  },
  {
   "cell_type": "markdown",
   "metadata": {
    "id": "LHo0NoTHysZu"
   },
   "source": [
    "**Завдання 5** Перевірити атрибут `Age` на викиди: "
   ]
  },
  {
   "cell_type": "code",
   "execution_count": null,
   "metadata": {
    "id": "9iXl-Y4OysZu"
   },
   "outputs": [
    {
     "name": "stdout",
     "output_type": "stream",
     "text": [
      "10th percentile of age: 28.0\n",
      "90th percentile of age: 55.0\n",
      "\n",
      "Interquartile Range (IQR) for age: 15.0\n",
      "Lower limit (1.5 * IQR below Q1): 9.5\n",
      "Upper limit (1.5 * IQR above Q3): 69.5\n",
      "\n",
      "Number of outliers found in age: 469\n",
      "       age      job   marital          education default housing loan  \\\n",
      "27713   70  retired  divorced           basic.4y      no     yes   no   \n",
      "27757   76  retired   married  university.degree      no      no  yes   \n",
      "27780   73  retired   married  university.degree      no     yes   no   \n",
      "27800   88  retired  divorced           basic.4y      no     yes   no   \n",
      "27802   88  retired  divorced           basic.4y      no      no   no   \n",
      "\n",
      "        contact month day_of_week  duration  campaign  pdays  previous  \\\n",
      "27713  cellular   mar         mon       187         3    999         0   \n",
      "27757  cellular   mar         thu       167         9    999         0   \n",
      "27780  cellular   mar         tue       179         1    999         1   \n",
      "27800  cellular   mar         wed        48         1    999         0   \n",
      "27802  cellular   mar         wed       266         2    999         0   \n",
      "\n",
      "          poutcome  emp.var.rate  cons.price.idx  cons.conf.idx  euribor3m  \\\n",
      "27713  nonexistent          -1.8          92.843          -50.0      1.811   \n",
      "27757  nonexistent          -1.8          92.843          -50.0      1.757   \n",
      "27780      failure          -1.8          92.843          -50.0      1.687   \n",
      "27800  nonexistent          -1.8          92.843          -50.0      1.663   \n",
      "27802  nonexistent          -1.8          92.843          -50.0      1.663   \n",
      "\n",
      "       nr.employed    y  \n",
      "27713       5099.1  yes  \n",
      "27757       5099.1   no  \n",
      "27780       5099.1   no  \n",
      "27800       5099.1   no  \n",
      "27802       5099.1  yes  \n"
     ]
    }
   ],
   "source": [
    "import numpy as np\n",
    "import pandas as pd\n",
    "import matplotlib.pyplot as plt\n",
    "import seaborn as sns\n",
    "\n",
    "def detect_outliers_with_interquantile_range(df: pd.DataFrame, col: str,low_percentile: int, high_percentile: int) -> pd.DataFrame:\n",
    "    \"\"\"\n",
    "    Detect outliers using the Interquartile Range (IQR) method.\n",
    "    \n",
    "    Parameters:\n",
    "    -----------\n",
    "    df : pd.DataFrame\n",
    "        The DataFrame containing the data.\n",
    "    col : str\n",
    "        The name of the column to analyze.\n",
    "    low_percentile : int\n",
    "        The lower percentile to display (does not affect the IQR calculation).\n",
    "    high_percentile : int\n",
    "        The upper percentile to display (does not affect the IQR calculation).\n",
    "    \n",
    "    Returns:\n",
    "    --------\n",
    "    outliers : pd.DataFrame\n",
    "        A DataFrame containing the rows identified as outliers based on IQR.\n",
    "    \"\"\"\n",
    "    \n",
    "    sorted_data = np.sort(df[col])\n",
    "\n",
    "    low_val = np.percentile(sorted_data, low_percentile)\n",
    "    high_val = np.percentile(sorted_data, high_percentile)\n",
    "    print(f\"{low_percentile}th percentile of {col}: {low_val}\")\n",
    "    print(f\"{high_percentile}th percentile of {col}: {high_val}\")\n",
    "\n",
    "    q1 = np.percentile(sorted_data, 25)\n",
    "    q3 = np.percentile(sorted_data, 75)\n",
    "    iqr = q3 - q1\n",
    "    print(f\"Interquartile Range (IQR) for {col}: {iqr}\")\n",
    "\n",
    "    low_lim = q1 - 1.5 * iqr\n",
    "    up_lim = q3 + 1.5 * iqr\n",
    "    print(f\"Lower limit (1.5 * IQR below Q1): {low_lim}\")\n",
    "    print(f\"Upper limit (1.5 * IQR above Q3): {up_lim}\")\n",
    "\n",
    "    outliers = df[(df[col] < low_lim) | (df[col] > up_lim)]\n",
    "    print(f\"\\nNumber of outliers found in {col}: {len(outliers)}\")\n",
    "\n",
    "    return outliers\n",
    "\n",
    "df = pd.read_csv(\"bank-additional-full.csv\", sep=\";\")\n",
    "\n",
    "column_to_check = 'age'\n",
    "\n",
    "outliers_df = detect_outliers_with_interquantile_range(df, column_to_check, 10, 90)\n",
    "\n",
    "print(outliers_df.head())\n"
   ]
  },
  {
   "cell_type": "code",
   "execution_count": null,
   "metadata": {
    "id": "gc_oPZJMysZv"
   },
   "outputs": [],
   "source": [
    "outliers = detect_outliers_with_interquantile_range(bank_client, 'age', 10, 90)"
   ]
  },
  {
   "cell_type": "markdown",
   "metadata": {
    "id": "PN-ypxmiysZv"
   },
   "source": [
    "**Висновки з завдання 5 (детальні)**"
   ]
  },
  {
   "cell_type": "markdown",
   "metadata": {
    "id": "vJzhjPQ_ysZv"
   },
   "source": [
    "Клієнти з віком більще 70 років (загалом 469) є викидами, що підтверджує наявність аномально старших значень за межами нормального діапазону (9.5–69.5)."
   ]
  },
  {
   "cell_type": "markdown",
   "metadata": {
    "id": "llohM2tDysZv"
   },
   "source": [
    "**Завдання 6** Аналіз атрибутів `job`, `marital` та `education`:  \n",
    "- Побудувати графіки розподілу даних по цим змінним."
   ]
  },
  {
   "cell_type": "code",
   "execution_count": null,
   "metadata": {
    "id": "Srz_q9wSysZw"
   },
   "outputs": [
    {
     "data": {
      "image/png": "[encoded data removed]",
      "text/plain": [
       "<Figure size 2000x600 with 3 Axes>"
      ]
     },
     "metadata": {},
     "output_type": "display_data"
    }
   ],
   "source": [
    "import pandas as pd\n",
    "import matplotlib.pyplot as plt\n",
    "import seaborn as sns\n",
    "\n",
    "df = pd.read_csv(\"bank-additional-full.csv\", sep=\";\")\n",
    "\n",
    "categorical_columns = [\"job\", \"marital\", \"education\"]\n",
    "\n",
    "fig, axes = plt.subplots(1, 3, figsize=(20, 6))\n",
    "\n",
    "for i, col in enumerate(categorical_columns):\n",
    "    sns.countplot(\n",
    "        ax=axes[i],\n",
    "        x=col,\n",
    "        data=df,\n",
    "        color='skyblue',\n",
    "        order=df[col].value_counts().index  \n",
    "    )\n",
    "    axes[i].set_title(f'Distribution of {col}')\n",
    "    axes[i].set_xlabel(col)\n",
    "    axes[i].set_ylabel('Count')\n",
    "    axes[i].tick_params(axis='x', rotation=45) \n",
    "\n",
    "plt.tight_layout()\n",
    "plt.show()\n"
   ]
  },
  {
   "cell_type": "code",
   "execution_count": null,
   "metadata": {
    "id": "X8IXg3ZEysZw"
   },
   "outputs": [],
   "source": [
    "#code"
   ]
  },
  {
   "cell_type": "code",
   "execution_count": null,
   "metadata": {
    "id": "CpmtGSyAysZw"
   },
   "outputs": [],
   "source": [
    "#code"
   ]
  },
  {
   "cell_type": "markdown",
   "metadata": {
    "id": "_HoSeGyxysZw"
   },
   "source": [
    "**Висновки з завдання 6 (детальні)**"
   ]
  },
  {
   "cell_type": "markdown",
   "metadata": {
    "id": "ED3cGHeVysZw"
   },
   "source": [
    "Distribution of job: найбільшу частку становлять клієнти з роботою типу \"admin.\" та \"blue-collar\", помітно менше в інших категоріях.\n",
    "\n",
    "Distribution of marital: переважає група \"married\", тоді як \"single\" та \"divorced\" трапляються рідше.\n",
    "\n",
    "Distribution of education: найчастіше зустрічається \"university.degree\", а \"high.school\" посідає друге місце за популярністю."
   ]
  },
  {
   "cell_type": "markdown",
   "metadata": {
    "id": "jw3sXGn5ysZw"
   },
   "source": [
    "**Завдання 7** Аналіз атрибутів `default`, `housing` та `loan`:  \n",
    "- Побудувати графіки розподілу даних по цим змінним."
   ]
  },
  {
   "cell_type": "code",
   "execution_count": null,
   "metadata": {
    "id": "ZY9DAx6jysZx"
   },
   "outputs": [
    {
     "data": {
      "image/png": "[encoded data removed]",
      "text/plain": [
       "<Figure size 1800x500 with 3 Axes>"
      ]
     },
     "metadata": {},
     "output_type": "display_data"
    }
   ],
   "source": [
    "import pandas as pd\n",
    "import seaborn as sns\n",
    "import matplotlib.pyplot as plt\n",
    "\n",
    "df = pd.read_csv(\"bank-additional-full.csv\", sep=\";\")\n",
    "\n",
    "categorical_cols = [\"default\", \"housing\", \"loan\"]\n",
    "\n",
    "fig, axes = plt.subplots(1, 3, figsize=(18, 5))\n",
    "\n",
    "for i, col in enumerate(categorical_cols):\n",
    "    sns.countplot(x=col, data=df, ax=axes[i], color='skyblue',\n",
    "                  order=df[col].value_counts().index)\n",
    "    axes[i].set_title(f\"Distribution of '{col}'\")\n",
    "    axes[i].set_xlabel(col)\n",
    "    axes[i].set_ylabel(\"Count\")\n",
    "    axes[i].tick_params(axis='x', rotation=45)\n",
    "\n",
    "plt.tight_layout()\n",
    "plt.show()\n"
   ]
  },
  {
   "cell_type": "code",
   "execution_count": null,
   "metadata": {
    "id": "Ak_0-1PxysZx"
   },
   "outputs": [],
   "source": [
    "#code"
   ]
  },
  {
   "cell_type": "code",
   "execution_count": null,
   "metadata": {
    "id": "NDArycEQysZx"
   },
   "outputs": [],
   "source": [
    "#code"
   ]
  },
  {
   "cell_type": "markdown",
   "metadata": {
    "id": "wYtREfcJysZx"
   },
   "source": [
    "**Завдання 8** Змінні **Jobs, Marital, Education, Default, Housing, Loan** трансформувати в неперервні змінні:"
   ]
  },
  {
   "cell_type": "code",
   "execution_count": 65,
   "metadata": {
    "id": "Wsg4TFQzysZx"
   },
   "outputs": [
    {
     "name": "stdout",
     "output_type": "stream",
     "text": [
      "  job marital education default housing loan\n",
      "0   3       1         0       0       0    0\n",
      "1   7       1         3       1       0    0\n",
      "2   7       1         3       0       2    0\n",
      "3   0       1         1       0       0    0\n",
      "4   7       1         3       0       0    2\n"
     ]
    }
   ],
   "source": [
    "import pandas as pd\n",
    "from sklearn.preprocessing import LabelEncoder\n",
    "\n",
    "def encode_categorical_columns(df: pd.DataFrame, categorical_cols: list) -> pd.DataFrame:\n",
    "    \"\"\"\n",
    "    Function for encoding categorical features using LabelEncoder.\n",
    "\n",
    "    Parameters:\n",
    "    -----------\n",
    "    df : pd.DataFrame\n",
    "        The DataFrame containing the data.\n",
    "    categorical_cols : list\n",
    "        A list of column names (categorical) to be encoded.\n",
    "\n",
    "    Returns:\n",
    "    --------\n",
    "    df : pd.DataFrame\n",
    "        The same DataFrame with encoded categorical values.\n",
    "    \"\"\"\n",
    "    for col in categorical_cols:\n",
    "        le = LabelEncoder()\n",
    "        not_null = df[col].notnull()\n",
    "        \n",
    "        df.loc[not_null, col] = le.fit_transform(df.loc[not_null, col].astype(str))\n",
    "        \n",
    "    return df\n",
    "\n",
    "bank_client = pd.read_csv(\"bank-additional-full.csv\", sep=\";\")\n",
    "\n",
    "bank_client = encode_categorical_columns(\n",
    "    bank_client,\n",
    "    [\"job\", \"marital\", \"education\", \"default\", \"housing\", \"loan\"]\n",
    ")\n",
    "\n",
    "print(bank_client[[\"job\", \"marital\", \"education\", \"default\", \"housing\", \"loan\"]].head())\n"
   ]
  },
  {
   "cell_type": "code",
   "execution_count": null,
   "metadata": {
    "id": "pInQzFcxysZx"
   },
   "outputs": [],
   "source": [
    "bank_client = encode_categorical_columns(bank_client, ['job', 'marital', 'education', 'default', 'housing',  'loan'])"
   ]
  },
  {
   "cell_type": "markdown",
   "metadata": {
    "id": "qY0ybijaysZy"
   },
   "source": [
    "**Завдання 9** Трансфомувати змінну **Age** (використовуючи її квартильні значення):\n",
    "\n",
    "\n"
   ]
  },
  {
   "cell_type": "code",
   "execution_count": 73,
   "metadata": {
    "id": "jKCNuX1YysZy"
   },
   "outputs": [
    {
     "name": "stdout",
     "output_type": "stream",
     "text": [
      "   age age_category\n",
      "0   56       Senior\n",
      "1   57       Senior\n",
      "2   37  Young Adult\n",
      "3   40        Adult\n",
      "4   56       Senior\n",
      "5   45        Adult\n",
      "6   59       Senior\n",
      "7   41        Adult\n",
      "8   24        Young\n",
      "9   25        Young\n"
     ]
    }
   ],
   "source": [
    "import pandas as pd\n",
    "\n",
    "def encode_age(dataframe: pd.DataFrame, age_col: str) -> pd.DataFrame:\n",
    "    \"\"\"\n",
    "    Function for encoding the 'age' column using its quartile values.\n",
    "    \n",
    "    Parameters:\n",
    "    -----------\n",
    "    dataframe : pd.DataFrame\n",
    "        The DataFrame containing the data.\n",
    "    age_col : str\n",
    "        The name of the 'age' column to be transformed.\n",
    "    \n",
    "    Returns:\n",
    "    --------\n",
    "    dataframe : pd.DataFrame\n",
    "        The modified DataFrame with a new column 'age_category',\n",
    "        which bins the original 'age' values into quartile-based categories.\n",
    "    \"\"\"\n",
    "\n",
    "    q1 = dataframe[age_col].quantile(0.25)\n",
    "    q2 = dataframe[age_col].quantile(0.50) \n",
    "    q3 = dataframe[age_col].quantile(0.75)\n",
    "    \n",
    "    age_min = dataframe[age_col].min()\n",
    "    age_max = dataframe[age_col].max()\n",
    "    bins = [age_min, q1, q2, q3, age_max]\n",
    "    \n",
    "    labels = [\"Young\", \"Young Adult\", \"Adult\", \"Senior\"]\n",
    "    \n",
    "    dataframe[\"age_category\"] = pd.cut(\n",
    "        dataframe[age_col],\n",
    "        bins=bins,\n",
    "        labels=labels,\n",
    "        include_lowest=True\n",
    "    )\n",
    "    \n",
    "    return dataframe\n",
    "\n",
    "bank_client = pd.read_csv(\"bank-additional-full.csv\", sep=\";\")\n",
    "bank_client = encode_age(bank_client, 'age')\n",
    "print(bank_client[['age', 'age_category']].head(10))\n"
   ]
  },
  {
   "cell_type": "code",
   "execution_count": null,
   "metadata": {
    "id": "FexEyw5BysZy"
   },
   "outputs": [],
   "source": [
    "bank_client = encode_age(bank_client, 'age')"
   ]
  },
  {
   "cell_type": "markdown",
   "metadata": {
    "id": "9F2SI64JysZy"
   },
   "source": [
    "**Висновки з завдання 9 (детальні)** перевірити як відбулося перетворення змінних\n",
    "\n",
    "Young (18–29), Young Adult (30–39), Senior (55–99), Adult (40–54)"
   ]
  },
  {
   "cell_type": "markdown",
   "metadata": {
    "id": "U32QZJAeysZy"
   },
   "source": [
    "## Вибірка містить певну кількість атрибутів, які характеризують останій зв'язок кліентів з банком"
   ]
  },
  {
   "cell_type": "markdown",
   "metadata": {
    "id": "gzxtGoEiysZy"
   },
   "source": [
    "**Завдання 10** Виділити в окремий датафрейм змінні, які характеризують зв'язок клієнтів з банком;\n",
    "- вивести цей датафрейм;\n",
    "- перевірити ці змінні на `NaN`."
   ]
  },
  {
   "cell_type": "code",
   "execution_count": 78,
   "metadata": {
    "id": "p0zB5zHeysZy"
   },
   "outputs": [
    {
     "name": "stdout",
     "output_type": "stream",
     "text": [
      "     contact month day_of_week  campaign  pdays  previous     poutcome\n",
      "0  telephone   may         mon         1    999         0  nonexistent\n",
      "1  telephone   may         mon         1    999         0  nonexistent\n",
      "2  telephone   may         mon         1    999         0  nonexistent\n",
      "3  telephone   may         mon         1    999         0  nonexistent\n",
      "4  telephone   may         mon         1    999         0  nonexistent\n",
      "Missing values:\n",
      "contact        0\n",
      "month          0\n",
      "day_of_week    0\n",
      "campaign       0\n",
      "pdays          0\n",
      "previous       0\n",
      "poutcome       0\n",
      "dtype: int64\n"
     ]
    }
   ],
   "source": [
    "import pandas as pd\n",
    "\n",
    "df = pd.read_csv(\"bank-additional-full.csv\", sep=\";\")\n",
    "\n",
    "contact_cols = ['contact', 'month', 'day_of_week', 'campaign', 'pdays', 'previous', 'poutcome']\n",
    "\n",
    "bank_contact_df = df[contact_cols]\n",
    "\n",
    "print(bank_contact_df.head())\n",
    "\n",
    "nan_counts = bank_contact_df.isna().sum()\n",
    "print(\"Missing values:\")\n",
    "print(nan_counts)\n"
   ]
  },
  {
   "cell_type": "markdown",
   "metadata": {
    "id": "Axa42bVcysZz"
   },
   "source": [
    "**Завдання 11** вивести унікальні значення, які містять атрибути `contact`, `month`, `day_of_week`"
   ]
  },
  {
   "cell_type": "code",
   "execution_count": 22,
   "metadata": {
    "id": "YesBNZfIysZz"
   },
   "outputs": [
    {
     "name": "stdout",
     "output_type": "stream",
     "text": [
      "Unique values in 'contact': ['telephone' 'cellular']\n",
      "Unique values in 'month': ['may' 'jun' 'jul' 'aug' 'oct' 'nov' 'dec' 'mar' 'apr' 'sep']\n",
      "Unique values in 'day_of_week': ['mon' 'tue' 'wed' 'thu' 'fri']\n"
     ]
    }
   ],
   "source": [
    "import pandas as pd\n",
    "\n",
    "df = pd.read_csv(\"bank-additional-full.csv\", sep=\";\")\n",
    "\n",
    "print(\"Unique values in 'contact':\", df['contact'].unique())\n",
    "print(\"Unique values in 'month':\", df['month'].unique())\n",
    "print(\"Unique values in 'day_of_week':\", df['day_of_week'].unique())\n"
   ]
  },
  {
   "cell_type": "markdown",
   "metadata": {
    "id": "6fFzX2raysZz"
   },
   "source": [
    "# Провести аналіз змінної **Duration**"
   ]
  },
  {
   "cell_type": "markdown",
   "metadata": {
    "id": "YiP7F-TAysZz"
   },
   "source": [
    "змінна ` duration` містить інформацію про тривалість останнього дзвінка, в секундах (числова). Важливе зауваження: цей атрибут сильно впливає на цільову змінну (наприклад, якщо тривалість = 0, тоді y = \"ні\"). Проте тривалість невідома до здійснення дзвінка. Крім того, після закінчення дзвінка y, очевидно, відомо. Таким чином, цей внесок слід включати лише для цілей порівняльних показників і відкидати, якщо метою є реалістична модель прогнозування."
   ]
  },
  {
   "cell_type": "markdown",
   "metadata": {
    "id": "VH7T1BCsysZz"
   },
   "source": [
    "**Завдання 12** Аналіз атрибуту `duration`:  \n",
    "\n",
    "Провести візуальний аналіз зміної `duration`:  \n",
    "\n",
    "\n",
    "*   побудувати  `boxplot` та `distplot`; \n",
    "*   перевірити розподіл по змінній `duration` на важкі хвости. \n",
    "\n"
   ]
  },
  {
   "cell_type": "code",
   "execution_count": 25,
   "metadata": {
    "id": "0ijoio2zysZz"
   },
   "outputs": [
    {
     "data": {
      "image/png": "[encoded data removed]",
      "text/plain": [
       "<Figure size 600x400 with 1 Axes>"
      ]
     },
     "metadata": {},
     "output_type": "display_data"
    },
    {
     "data": {
      "image/png": "[encoded data removed]",
      "text/plain": [
       "<Figure size 600x400 with 1 Axes>"
      ]
     },
     "metadata": {},
     "output_type": "display_data"
    },
    {
     "name": "stdout",
     "output_type": "stream",
     "text": [
      "Skewness of 'duration': 3.263141255262832\n",
      "Kurtosis of 'duration': 20.247938014978796\n"
     ]
    }
   ],
   "source": [
    "import pandas as pd\n",
    "import matplotlib.pyplot as plt\n",
    "import seaborn as sns\n",
    "\n",
    "df = pd.read_csv(\"bank-additional-full.csv\", sep=\";\")\n",
    "\n",
    "plt.figure(figsize=(6, 4))\n",
    "sns.boxplot(x='duration', data=df)\n",
    "plt.title('Boxplot of Duration')\n",
    "plt.xlabel('Duration (seconds)')\n",
    "plt.show()\n",
    "\n",
    "plt.figure(figsize=(6, 4))\n",
    "sns.histplot(df['duration'], color='green')\n",
    "plt.title('Distribution of Duration')\n",
    "plt.xlabel('Duration (seconds)')\n",
    "plt.ylabel('Count')\n",
    "plt.show()\n",
    "\n",
    "skewness = df['duration'].skew()\n",
    "kurtosis = df['duration'].kurt()\n",
    "print(f\"Skewness of 'duration': {skewness}\")\n",
    "print(f\"Kurtosis of 'duration': {kurtosis}\")\n"
   ]
  },
  {
   "cell_type": "markdown",
   "metadata": {
    "id": "PQJ5TJgjysZ0"
   },
   "source": [
    "**Завдання 13** Закодувати змінні Contact, Month, Day of Week (використовуйте функцію `encode_categorical_columns()`)"
   ]
  },
  {
   "cell_type": "code",
   "execution_count": null,
   "metadata": {
    "id": "thp8iB4bysZ0"
   },
   "outputs": [
    {
     "name": "stdout",
     "output_type": "stream",
     "text": [
      "   contact  month  day_of_week\n",
      "0        1      6            1\n",
      "1        1      6            1\n",
      "2        1      6            1\n",
      "3        1      6            1\n",
      "4        1      6            1\n"
     ]
    }
   ],
   "source": [
    "from sklearn.preprocessing import LabelEncoder\n",
    "import pandas as pd\n",
    "\n",
    "csv_file_path = \"bank-additional-full.csv\"\n",
    "df = pd.read_csv(csv_file_path, sep=\";\")\n",
    "def encode_categorical_columns(df: pd.DataFrame, categorical_cols: list) -> pd.DataFrame:\n",
    "    \"\"\"\n",
    "    Function for encoding categorical features using LabelEncoder.\n",
    "\n",
    "    df: pd.DataFrame to encode\n",
    "    categorical_cols: specified columns to encode\n",
    "\n",
    "    returns: pd.DataFrame with encoded values\n",
    "    \"\"\"\n",
    "    for col in categorical_cols:\n",
    "        le = LabelEncoder()\n",
    "        df[col] = le.fit_transform(df[col].astype(str))  \n",
    "\n",
    "    return df\n",
    "\n",
    "categorical_features = ['contact', 'month', 'day_of_week']\n",
    "\n",
    "df_encoded = encode_categorical_columns(df, categorical_features)\n",
    "\n",
    "print(df_encoded[['contact', 'month', 'day_of_week']].head())\n"
   ]
  },
  {
   "cell_type": "markdown",
   "metadata": {
    "id": "56q7Ok-rysZ0"
   },
   "source": [
    "**Завдання 14** Трансфомувати змінну **duration**, використовуючи її квартильні значення:"
   ]
  },
  {
   "cell_type": "code",
   "execution_count": null,
   "metadata": {
    "id": "wxwc4i-aysZ0"
   },
   "outputs": [
    {
     "name": "stdout",
     "output_type": "stream",
     "text": [
      "   duration duration_category\n",
      "0       261              Long\n",
      "1       149            Medium\n",
      "2       226              Long\n",
      "3       151            Medium\n",
      "4       307              Long\n",
      "5       198              Long\n",
      "6       139            Medium\n",
      "7       217              Long\n",
      "8       380         Very Long\n",
      "9        50             Short\n"
     ]
    }
   ],
   "source": [
    "import pandas as pd\n",
    "\n",
    "def encode_duration(dataframe: pd.DataFrame, duration_col: str) -> pd.DataFrame:\n",
    "    \"\"\"\n",
    "    Function to encode the 'duration' column based on its quartile values,\n",
    "    using min() and max() as the lower and upper boundaries.\n",
    "\n",
    "    Parameters:\n",
    "    -----------\n",
    "    dataframe : pd.DataFrame\n",
    "        The DataFrame containing the data.\n",
    "    duration_col : str\n",
    "        The name of the column to be transformed.\n",
    "\n",
    "    Returns:\n",
    "    --------\n",
    "    dataframe : pd.DataFrame\n",
    "        The modified DataFrame with a new column 'duration_category',\n",
    "        which bins the original 'duration' values into four categories.\n",
    "    \"\"\"\n",
    "    q1 = dataframe[duration_col].quantile(0.25)\n",
    "    q2 = dataframe[duration_col].quantile(0.50) \n",
    "    q3 = dataframe[duration_col].quantile(0.75)\n",
    "\n",
    "    duration_min = dataframe[duration_col].min()\n",
    "    duration_max = dataframe[duration_col].max()\n",
    "\n",
    "    bins = [duration_min, q1, q2, q3, duration_max]\n",
    "\n",
    "    labels = [\"Short\", \"Medium\", \"Long\", \"Very Long\"]\n",
    "\n",
    "    dataframe[\"duration_category\"] = pd.cut(\n",
    "        dataframe[duration_col],\n",
    "        bins=bins,\n",
    "        labels=labels,\n",
    "        include_lowest=True\n",
    "    )\n",
    "\n",
    "    return dataframe\n",
    "df = pd.read_csv(\"bank-additional-full.csv\", sep=\";\")\n",
    "\n",
    "df = encode_duration(df, \"duration\")\n",
    "print(df[[\"duration\", \"duration_category\"]].head(10))\n"
   ]
  },
  {
   "cell_type": "code",
   "execution_count": null,
   "metadata": {
    "id": "yGlDw6uGysZ0"
   },
   "outputs": [],
   "source": [
    "bank_relat = encode_duration(bank_relat, 'duration')"
   ]
  },
  {
   "cell_type": "markdown",
   "metadata": {
    "id": "09lfy5MvysZ0"
   },
   "source": [
    "## Провести аналіз атрибутів **соціального та економічного контексту**"
   ]
  },
  {
   "cell_type": "markdown",
   "metadata": {
    "id": "SnUz68opysZ1"
   },
   "source": [
    "**Завдання 15** Виділити в окремий датафрейм атрибути соціального та єкономічного контексту"
   ]
  },
  {
   "cell_type": "code",
   "execution_count": 44,
   "metadata": {
    "id": "Iag7Z_6eysZ1"
   },
   "outputs": [
    {
     "name": "stdout",
     "output_type": "stream",
     "text": [
      "   emp.var.rate  cons.price.idx  cons.conf.idx  euribor3m  nr.employed\n",
      "0           1.1          93.994          -36.4      4.857       5191.0\n",
      "1           1.1          93.994          -36.4      4.857       5191.0\n",
      "2           1.1          93.994          -36.4      4.857       5191.0\n",
      "3           1.1          93.994          -36.4      4.857       5191.0\n",
      "4           1.1          93.994          -36.4      4.857       5191.0\n"
     ]
    }
   ],
   "source": [
    "import pandas as pd\n",
    "\n",
    "df = pd.read_csv(\"bank-additional-full.csv\", sep=\";\")\n",
    "\n",
    "soc_econ_cols = [\n",
    "    \"emp.var.rate\",\n",
    "    \"cons.price.idx\",\n",
    "    \"cons.conf.idx\",\n",
    "    \"euribor3m\",\n",
    "    \"nr.employed\"\n",
    "]\n",
    "\n",
    "soc_econ_df = df[soc_econ_cols]\n",
    "print(soc_econ_df.head())\n"
   ]
  },
  {
   "cell_type": "markdown",
   "metadata": {
    "id": "yPtBjoemysZ1"
   },
   "source": [
    "**Завдання 16** Виділити в окремий датафрейм всі інші атрибути атрибути - `campaign`, `pdays`,`previous`, `poutcome`"
   ]
  },
  {
   "cell_type": "code",
   "execution_count": 46,
   "metadata": {
    "id": "tcTvIR9xysZ3"
   },
   "outputs": [
    {
     "name": "stdout",
     "output_type": "stream",
     "text": [
      "   campaign  pdays  previous     poutcome\n",
      "0         1    999         0  nonexistent\n",
      "1         1    999         0  nonexistent\n",
      "2         1    999         0  nonexistent\n",
      "3         1    999         0  nonexistent\n",
      "4         1    999         0  nonexistent\n"
     ]
    }
   ],
   "source": [
    "import pandas as pd\n",
    "\n",
    "df = pd.read_csv(\"bank-additional-full.csv\", sep=\";\")\n",
    "\n",
    "campaign_cols = [\"campaign\", \"pdays\", \"previous\", \"poutcome\"]\n",
    "\n",
    "campaign_df = df[campaign_cols]\n",
    "print(campaign_df.head())\n"
   ]
  },
  {
   "cell_type": "markdown",
   "metadata": {
    "id": "hf9tgwqRysZ3"
   },
   "source": [
    "**Завдання 17** Провести трансформацію атрибуту `poutcome`"
   ]
  },
  {
   "cell_type": "code",
   "execution_count": 50,
   "metadata": {
    "id": "nUVUzdq1ysZ3"
   },
   "outputs": [
    {
     "name": "stdout",
     "output_type": "stream",
     "text": [
      "Unique values before: ['nonexistent' 'failure' 'success']\n",
      "Unique values: [1 0 2]\n",
      "   poutcome\n",
      "0         1\n",
      "1         1\n",
      "2         1\n",
      "3         1\n",
      "4         1\n",
      "5         1\n",
      "6         1\n",
      "7         1\n",
      "8         1\n",
      "9         1\n"
     ]
    }
   ],
   "source": [
    "import pandas as pd\n",
    "\n",
    "df = pd.read_csv(\"bank-additional-full.csv\", sep=\";\")\n",
    "\n",
    "print(\"Unique values before:\", df['poutcome'].unique())\n",
    "\n",
    "mapping_dict = {\n",
    "    \"failure\": 0,\n",
    "    \"nonexistent\": 1,\n",
    "    \"success\": 2\n",
    "}\n",
    "\n",
    "df['poutcome'] = df['poutcome'].map(mapping_dict)\n",
    "\n",
    "print(\"Unique values:\", df['poutcome'].unique())\n",
    "print(df[['poutcome']].head(10))\n"
   ]
  },
  {
   "cell_type": "markdown",
   "metadata": {
    "id": "-E2GpdBKysZ4"
   },
   "source": [
    "## Будування моделей класифікації"
   ]
  },
  {
   "cell_type": "markdown",
   "metadata": {
    "id": "HZ6ZNGtvysZ4"
   },
   "source": [
    "**Завдання 18** З'єднати всі отримані блоки в один датафрейм і перевірити, що він містить тільки потрібні для моделювання колонки"
   ]
  },
  {
   "cell_type": "code",
   "execution_count": 103,
   "metadata": {
    "id": "y6gbsEk2ysZ4"
   },
   "outputs": [
    {
     "name": "stdout",
     "output_type": "stream",
     "text": [
      "Index(['age', 'job', 'marital', 'education', 'default', 'housing', 'loan',\n",
      "       'contact', 'month', 'day_of_week', 'duration', 'campaign', 'pdays',\n",
      "       'previous', 'poutcome', 'emp.var.rate', 'cons.price.idx',\n",
      "       'cons.conf.idx', 'euribor3m', 'nr.employed', 'y', 'age_category',\n",
      "       'contact', 'month', 'day_of_week', 'campaign', 'pdays', 'previous',\n",
      "       'poutcome', 'emp.var.rate', 'cons.price.idx', 'cons.conf.idx',\n",
      "       'euribor3m', 'nr.employed', 'campaign', 'pdays', 'previous', 'poutcome',\n",
      "       'y'],\n",
      "      dtype='object')\n",
      "(41188, 39)\n",
      "   age        job  marital    education  default housing loan    contact  \\\n",
      "0   56  housemaid  married     basic.4y       no      no   no  telephone   \n",
      "1   57   services  married  high.school  unknown      no   no  telephone   \n",
      "2   37   services  married  high.school       no     yes   no  telephone   \n",
      "3   40     admin.  married     basic.6y       no      no   no  telephone   \n",
      "4   56   services  married  high.school       no      no  yes  telephone   \n",
      "\n",
      "  month day_of_week  duration  campaign  pdays  previous     poutcome  \\\n",
      "0   may         mon       261         1    999         0  nonexistent   \n",
      "1   may         mon       149         1    999         0  nonexistent   \n",
      "2   may         mon       226         1    999         0  nonexistent   \n",
      "3   may         mon       151         1    999         0  nonexistent   \n",
      "4   may         mon       307         1    999         0  nonexistent   \n",
      "\n",
      "   emp.var.rate  cons.price.idx  cons.conf.idx  euribor3m  nr.employed   y  \\\n",
      "0           1.1          93.994          -36.4      4.857       5191.0  no   \n",
      "1           1.1          93.994          -36.4      4.857       5191.0  no   \n",
      "2           1.1          93.994          -36.4      4.857       5191.0  no   \n",
      "3           1.1          93.994          -36.4      4.857       5191.0  no   \n",
      "4           1.1          93.994          -36.4      4.857       5191.0  no   \n",
      "\n",
      "  age_category    contact month day_of_week  campaign  pdays  previous  \\\n",
      "0       Senior  telephone   may         mon         1    999         0   \n",
      "1       Senior  telephone   may         mon         1    999         0   \n",
      "2  Young Adult  telephone   may         mon         1    999         0   \n",
      "3        Adult  telephone   may         mon         1    999         0   \n",
      "4       Senior  telephone   may         mon         1    999         0   \n",
      "\n",
      "      poutcome  emp.var.rate  cons.price.idx  cons.conf.idx  euribor3m  \\\n",
      "0  nonexistent           1.1          93.994          -36.4      4.857   \n",
      "1  nonexistent           1.1          93.994          -36.4      4.857   \n",
      "2  nonexistent           1.1          93.994          -36.4      4.857   \n",
      "3  nonexistent           1.1          93.994          -36.4      4.857   \n",
      "4  nonexistent           1.1          93.994          -36.4      4.857   \n",
      "\n",
      "   nr.employed  campaign  pdays  previous     poutcome   y  \n",
      "0       5191.0         1    999         0  nonexistent  no  \n",
      "1       5191.0         1    999         0  nonexistent  no  \n",
      "2       5191.0         1    999         0  nonexistent  no  \n",
      "3       5191.0         1    999         0  nonexistent  no  \n",
      "4       5191.0         1    999         0  nonexistent  no  \n"
     ]
    }
   ],
   "source": [
    "import pandas as pd\n",
    "\n",
    "df = pd.read_csv(\"bank-additional-full.csv\", sep=\";\")\n",
    "\n",
    "\n",
    "bank_final = pd.concat(\n",
    "    [bank_client,bank_contact_df, soc_econ_df, campaign_df, df[['y']]], \n",
    "    axis=1\n",
    ")\n",
    "\n",
    "print(bank_final.columns)\n",
    "print(bank_final.shape)\n",
    "print(bank_final.head())\n"
   ]
  },
  {
   "cell_type": "markdown",
   "metadata": {
    "id": "_AwD8ZiBysZ4"
   },
   "source": [
    "**Завдання 19** Провести ділення вибірки"
   ]
  },
  {
   "cell_type": "code",
   "execution_count": 149,
   "metadata": {
    "id": "RZhPJcZ4ysZ5"
   },
   "outputs": [
    {
     "name": "stdout",
     "output_type": "stream",
     "text": [
      "bank_final:\n",
      "   age        job  marital    education  default housing loan    contact  \\\n",
      "0   56  housemaid  married     basic.4y       no      no   no  telephone   \n",
      "1   57   services  married  high.school  unknown      no   no  telephone   \n",
      "2   37   services  married  high.school       no     yes   no  telephone   \n",
      "3   40     admin.  married     basic.6y       no      no   no  telephone   \n",
      "4   56   services  married  high.school       no      no  yes  telephone   \n",
      "\n",
      "  month day_of_week  duration  campaign  pdays  previous     poutcome  \\\n",
      "0   may         mon       261         1    999         0  nonexistent   \n",
      "1   may         mon       149         1    999         0  nonexistent   \n",
      "2   may         mon       226         1    999         0  nonexistent   \n",
      "3   may         mon       151         1    999         0  nonexistent   \n",
      "4   may         mon       307         1    999         0  nonexistent   \n",
      "\n",
      "   emp.var.rate  cons.price.idx  cons.conf.idx  euribor3m  nr.employed   y  \n",
      "0           1.1          93.994          -36.4      4.857       5191.0  no  \n",
      "1           1.1          93.994          -36.4      4.857       5191.0  no  \n",
      "2           1.1          93.994          -36.4      4.857       5191.0  no  \n",
      "3           1.1          93.994          -36.4      4.857       5191.0  no  \n",
      "4           1.1          93.994          -36.4      4.857       5191.0  no  \n",
      "\n",
      "Train set shape: (28831, 20) (28831,)\n",
      "Test set shape: (12357, 20) (12357,)\n",
      "K-Fold splits (n_splits=5)\n",
      "  Fold 1:\n",
      "    Train indices: [0 1 2 4 5] ...\n",
      "    Val indices:   [ 3  6 17 29 30] ...\n",
      "  Fold 2:\n",
      "    Train indices: [1 2 3 4 5] ...\n",
      "    Val indices:   [ 0  7 19 23 31] ...\n",
      "  Fold 3:\n",
      "    Train indices: [0 1 2 3 6] ...\n",
      "    Val indices:   [ 4  5  8 14 15] ...\n",
      "  Fold 4:\n",
      "    Train indices: [0 3 4 5 6] ...\n",
      "    Val indices:   [ 1  2 10 12 18] ...\n",
      "  Fold 5:\n",
      "    Train indices: [0 1 2 3 4] ...\n",
      "    Val indices:   [ 9 11 13 16 24] ...\n"
     ]
    }
   ],
   "source": [
    "import pandas as pd\n",
    "import numpy as np\n",
    "from sklearn.model_selection import train_test_split, KFold\n",
    "from sklearn.preprocessing import StandardScaler\n",
    "\n",
    "\n",
    "csv_file_path = \"bank-additional-full.csv\"  \n",
    "bank_final = pd.read_csv(csv_file_path, sep=\";\")\n",
    "\n",
    "print(\"bank_final:\")\n",
    "print(bank_final.head())\n",
    "\n",
    "\n",
    "X = bank_final.drop(columns=[\"y\"])\n",
    "y = bank_final[\"y\"]\n",
    "\n",
    "\n",
    "X_train, X_test, y_train, y_test = train_test_split(\n",
    "    X,\n",
    "    y,\n",
    "    test_size=0.3,        \n",
    "    shuffle=True,\n",
    "    random_state=42     \n",
    ")\n",
    "\n",
    "print(\"\\nTrain set shape:\", X_train.shape, y_train.shape)\n",
    "print(\"Test set shape:\", X_test.shape, y_test.shape)\n",
    "\n",
    "\n",
    "kf = KFold(\n",
    "    n_splits=5,          \n",
    "    shuffle=True,\n",
    "    random_state=42\n",
    ")\n",
    "\n",
    "print(\"K-Fold splits (n_splits=5)\")\n",
    "for fold, (train_idx, val_idx) in enumerate(kf.split(X_train)):\n",
    "    print(f\"  Fold {fold+1}:\")\n",
    "    print(\"    Train indices:\", train_idx[:5], \"...\")\n",
    "    print(\"    Val indices:  \", val_idx[:5], \"...\")\n",
    "    pass\n"
   ]
  },
  {
   "cell_type": "code",
   "execution_count": null,
   "metadata": {
    "id": "1rj6PXqfysZ5"
   },
   "outputs": [],
   "source": [
    "X_train, X_test, y_train, y_test, k_fold = prepare_data_for_training(bank_final, target, 0.2, 10, 101)"
   ]
  },
  {
   "cell_type": "code",
   "execution_count": null,
   "metadata": {
    "id": "Zx4lCwm3ysZ6"
   },
   "outputs": [],
   "source": [
    "def scale_the_data(X_train: pd.DataFrame, \n",
    "                   X_test: pd.DataFrame):\n",
    "  \n",
    "  sc_X = StandardScaler()\n",
    "  X_train = sc_X.fit_transform(X_train)\n",
    "  X_test = sc_X.transform(X_test)\n",
    "\n",
    "  return X_train, X_test"
   ]
  },
  {
   "cell_type": "code",
   "execution_count": null,
   "metadata": {
    "id": "v3ypxy96As9J"
   },
   "outputs": [],
   "source": [
    "X_train, X_test = scale_the_data(X_train, X_test)"
   ]
  },
  {
   "cell_type": "markdown",
   "metadata": {},
   "source": [
    "## Логістична Регресія"
   ]
  },
  {
   "cell_type": "code",
   "execution_count": 126,
   "metadata": {
    "id": "TZBcy1C3ysZ6"
   },
   "outputs": [
    {
     "name": "stdout",
     "output_type": "stream",
     "text": [
      "Confusion Matrix:\n",
      "[[10685   283]\n",
      " [  801   588]]\n",
      "\n",
      "Accuracy (Test Set): 91.2 %\n"
     ]
    }
   ],
   "source": [
    "import pandas as pd\n",
    "from sklearn.linear_model import LogisticRegression\n",
    "from sklearn.model_selection import train_test_split\n",
    "from sklearn.metrics import confusion_matrix, accuracy_score\n",
    "from sklearn.preprocessing import StandardScaler\n",
    "\n",
    "bank_final = pd.read_csv(\"bank-additional-full.csv\", sep=\";\")\n",
    "\n",
    "cat_cols = [\n",
    "    \"job\", \"marital\", \"education\", \"default\", \"housing\", \"loan\",\n",
    "    \"contact\", \"month\", \"day_of_week\", \"poutcome\"\n",
    "]\n",
    "\n",
    "bank_encoded = pd.get_dummies(bank_final, columns=cat_cols, drop_first=True)\n",
    "\n",
    "X = bank_encoded.drop(columns=[\"y\"])\n",
    "y = bank_encoded[\"y\"]\n",
    "\n",
    "scaler = StandardScaler()\n",
    "X_scaled = scaler.fit_transform(X)\n",
    "\n",
    "X_train, X_test, y_train, y_test = train_test_split(\n",
    "    X_scaled, y,\n",
    "    test_size=0.3,\n",
    "    random_state=42,\n",
    "    shuffle=True\n",
    ")\n",
    "\n",
    "logmodel = LogisticRegression()\n",
    "logmodel.fit(X_train, y_train)\n",
    "\n",
    "y_pred = logmodel.predict(X_test)\n",
    "\n",
    "cm = confusion_matrix(y_test, y_pred)\n",
    "acc = accuracy_score(y_test, y_pred)\n",
    "\n",
    "print(\"Confusion Matrix:\")\n",
    "print(cm)\n",
    "print(\"\\nAccuracy (Test Set):\", round(acc, 3)*100, \"%\")\n"
   ]
  },
  {
   "cell_type": "markdown",
   "metadata": {},
   "source": [
    "## k-NN"
   ]
  },
  {
   "cell_type": "code",
   "execution_count": 150,
   "metadata": {
    "id": "NHxB-_ZUysZ6"
   },
   "outputs": [
    {
     "name": "stdout",
     "output_type": "stream",
     "text": [
      "1-NN accuracy: 88.79%\n",
      "3-NN accuracy: 89.96%\n",
      "5-NN accuracy: 90.46%\n",
      "7-NN accuracy: 90.76%\n",
      "9-NN accuracy: 90.76%\n",
      "11-NN accuracy: 90.86%\n",
      "13-NN accuracy: 90.93%\n",
      "15-NN accuracy: 90.98%\n",
      "17-NN accuracy: 90.99%\n",
      "19-NN accuracy: 91.01%\n",
      "21-NN accuracy: 91.03%\n",
      "23-NN accuracy: 91.05%\n",
      "25-NN accuracy: 91.00%\n",
      "The optimal number of neighbors is 23 with accuracy of 91.1%\n",
      "[[7043  260]\n",
      " [ 468  467]]\n",
      "Accuracy: 91.0%\n"
     ]
    }
   ],
   "source": [
    "from sklearn.neighbors import KNeighborsClassifier\n",
    "from sklearn.model_selection import train_test_split, cross_val_score\n",
    "from sklearn.metrics import confusion_matrix, accuracy_score\n",
    "\n",
    "csv_file_path = \"bank-additional-full.csv\"  \n",
    "bank_final = pd.read_csv(csv_file_path, delimiter=\";\")\n",
    "\n",
    "from sklearn.preprocessing import LabelEncoder\n",
    "label_encoder = LabelEncoder()\n",
    "for col in bank_final.select_dtypes(include=['object']).columns:\n",
    "    bank_final[col] = label_encoder.fit_transform(bank_final[col].astype(str))\n",
    "\n",
    "X = bank_final.drop(columns=['y']) \n",
    "y = bank_final['y']  \n",
    "\n",
    "X_train, X_test, y_train, y_test = train_test_split(X, y, test_size=0.2, random_state=42)\n",
    "\n",
    "neighbors = np.arange(1, 26, 2) \n",
    "cv_scores = []\n",
    "\n",
    "for k in neighbors:\n",
    "    knn = KNeighborsClassifier(n_neighbors=k, weights='uniform', p=2, metric='euclidean')\n",
    "    scores = cross_val_score(knn, X_train, y_train, cv=10, scoring='accuracy')\n",
    "    cv_scores.append(scores.mean() * 100)\n",
    "    print(f\"{k}-NN accuracy: {scores.mean() * 100:.2f}%\")\n",
    "\n",
    "optimal_k = neighbors[cv_scores.index(max(cv_scores))]\n",
    "print(f\"The optimal number of neighbors is {optimal_k} with accuracy of {max(cv_scores):.1f}%\")\n",
    "\n",
    "knn = KNeighborsClassifier(n_neighbors=optimal_k)\n",
    "knn.fit(X_train, y_train)\n",
    "\n",
    "knnpred = knn.predict(X_test)\n",
    "\n",
    "print(confusion_matrix(y_test, knnpred))\n",
    "print(f\"Accuracy: {round(accuracy_score(y_test, knnpred), 2) * 100}%\")\n",
    "\n"
   ]
  },
  {
   "cell_type": "code",
   "execution_count": null,
   "metadata": {
    "id": "483uXHTnysZ6"
   },
   "outputs": [],
   "source": [
    "X_train, X_test, y_train, y_test = train_test_split(X, y, test_size=0.2, random_state=42)\n"
   ]
  },
  {
   "cell_type": "markdown",
   "metadata": {},
   "source": [
    "## Логістична Регресія"
   ]
  },
  {
   "cell_type": "code",
   "execution_count": null,
   "metadata": {
    "id": "bIir_TuRysZ7"
   },
   "outputs": [
    {
     "name": "stdout",
     "output_type": "stream",
     "text": [
      "[[7108  195]\n",
      " [ 544  391]]\n",
      "91.0\n",
      "Cross-validation accuracy: 91.0%\n"
     ]
    }
   ],
   "source": [
    "from sklearn.preprocessing import StandardScaler\n",
    "from sklearn.linear_model import LogisticRegression\n",
    "from sklearn.metrics import confusion_matrix, accuracy_score\n",
    "from sklearn.model_selection import cross_val_score\n",
    "\n",
    "scaler = StandardScaler()\n",
    "X_train_scaled = scaler.fit_transform(X_train)\n",
    "X_test_scaled = scaler.transform(X_test)\n",
    "\n",
    "logmodel = LogisticRegression(max_iter=1000)\n",
    "logmodel.fit(X_train_scaled, y_train)\n",
    "\n",
    "logpred = logmodel.predict(X_test_scaled)\n",
    "\n",
    "print(confusion_matrix(y_test, logpred))\n",
    "print(round(accuracy_score(y_test, logpred) * 100, 1))\n",
    "\n",
    "LOGCV = cross_val_score(logmodel, X_train_scaled, y_train, cv=kf, n_jobs=1, scoring='accuracy').mean()\n",
    "print(f\"Cross-validation accuracy: {LOGCV * 100:.1f}%\")\n"
   ]
  },
  {
   "cell_type": "markdown",
   "metadata": {
    "id": "mh_Vd_vOysZ7"
   },
   "source": [
    "**Висновки по моделям (детальні)**"
   ]
  },
  {
   "cell_type": "markdown",
   "metadata": {
    "id": "ZK2CADn6ysZ7"
   },
   "source": [
    "Логістична регресія: показала близько 91% точності, але може зіштовхуватися з попередженнями про збіжність за відсутності масштабування\n",
    "\n",
    "k-NN: досяг подібної (~91%) точності за оптимального k, однак є дуже чутливим до масштабу ознак і вибору кількості сусідів.\n"
   ]
  }
 ],
 "metadata": {
  "colab": {
   "name": "Task5_Classification (1).ipynb",
   "provenance": []
  },
  "kernelspec": {
   "display_name": "Python 3",
   "language": "python",
   "name": "python3"
  },
  "language_info": {
   "codemirror_mode": {
    "name": "ipython",
    "version": 3
   },
   "file_extension": ".py",
   "mimetype": "text/x-python",
   "name": "python",
   "nbconvert_exporter": "python",
   "pygments_lexer": "ipython3",
   "version": "3.13.0"
  }
 },
 "nbformat": 4,
 "nbformat_minor": 4
}
